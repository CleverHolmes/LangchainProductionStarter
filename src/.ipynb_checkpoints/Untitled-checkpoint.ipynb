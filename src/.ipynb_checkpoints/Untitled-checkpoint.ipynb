{
 "cells": [
  {
   "cell_type": "code",
   "execution_count": 9,
   "id": "113a20d1",
   "metadata": {},
   "outputs": [],
   "source": [
    "from typing import List\n",
    "\n",
    "from langchain.agents import Tool, initialize_agent, AgentType\n",
    "from langchain.memory import ConversationBufferMemory\n",
    "from steamship_langchain.llms import OpenAIChat\n",
    "from steamship_langchain.memory import ChatMessageHistory\n",
    "\n",
    "from agent.base import LangChainAgentBot\n",
    "from agent.tools.image import GenerateImageTool\n",
    "from agent.tools.reminder import RemindMe\n",
    "from agent.tools.search import SearchTool\n",
    "from steamship import Steamship"
   ]
  },
  {
   "cell_type": "code",
   "execution_count": 14,
   "id": "5c7655eb",
   "metadata": {},
   "outputs": [],
   "source": [
    "def get_agent(client, chat_id: str):\n",
    "    llm = OpenAIChat(client=client,\n",
    "                     temperature=.7,\n",
    "                     verbose=True)\n",
    "\n",
    "    tools =  [\n",
    "            SearchTool(client),\n",
    "            # MyTool(self.client),\n",
    "            GenerateImageTool(client),\n",
    "            # GenerateAlbumArtTool(self.client)\n",
    "#             RemindMe(invoke_later=invoke_later, chat_id=chat_id)\n",
    "        ]\n",
    "\n",
    "    my_instance_handle = \"local-also-remind-me-will-not-work\"\n",
    "\n",
    "    memory = ConversationBufferMemory(memory_key=\"chat_history\",\n",
    "                                      chat_memory=ChatMessageHistory(\n",
    "                                          client=client,\n",
    "                                          key=f\"history-{chat_id}-{my_instance_handle}\"\n",
    "                                      ),\n",
    "                                      return_messages=True)\n",
    "\n",
    "    return initialize_agent(tools,\n",
    "                            llm,\n",
    "                            agent=AgentType.CHAT_CONVERSATIONAL_REACT_DESCRIPTION,\n",
    "                            verbose=True,\n",
    "                            memory=memory)"
   ]
  },
  {
   "cell_type": "code",
   "execution_count": 13,
   "id": "2999ee0c",
   "metadata": {},
   "outputs": [
    {
     "ename": "NameError",
     "evalue": "name 'self' is not defined",
     "output_type": "error",
     "traceback": [
      "\u001b[0;31m---------------------------------------------------------------------------\u001b[0m",
      "\u001b[0;31mNameError\u001b[0m                                 Traceback (most recent call last)",
      "Cell \u001b[0;32mIn[13], line 1\u001b[0m\n\u001b[0;32m----> 1\u001b[0m agent \u001b[38;5;241m=\u001b[39m \u001b[43mget_agent\u001b[49m\u001b[43m(\u001b[49m\u001b[43mSteamship\u001b[49m\u001b[43m(\u001b[49m\u001b[43m)\u001b[49m\u001b[43m,\u001b[49m\u001b[43m \u001b[49m\u001b[43mchat_id\u001b[49m\u001b[38;5;241;43m=\u001b[39;49m\u001b[38;5;124;43m\"\u001b[39;49m\u001b[38;5;124;43m2\u001b[39;49m\u001b[38;5;124;43m\"\u001b[39;49m\u001b[43m)\u001b[49m\n",
      "Cell \u001b[0;32mIn[12], line 6\u001b[0m, in \u001b[0;36mget_agent\u001b[0;34m(client, chat_id)\u001b[0m\n\u001b[1;32m      1\u001b[0m \u001b[38;5;28;01mdef\u001b[39;00m \u001b[38;5;21mget_agent\u001b[39m(client, chat_id: \u001b[38;5;28mstr\u001b[39m):\n\u001b[1;32m      2\u001b[0m     llm \u001b[38;5;241m=\u001b[39m OpenAIChat(client\u001b[38;5;241m=\u001b[39mclient,\n\u001b[1;32m      3\u001b[0m                      temperature\u001b[38;5;241m=\u001b[39m\u001b[38;5;241m.7\u001b[39m,\n\u001b[1;32m      4\u001b[0m                      verbose\u001b[38;5;241m=\u001b[39m\u001b[38;5;28;01mTrue\u001b[39;00m)\n\u001b[0;32m----> 6\u001b[0m     tools \u001b[38;5;241m=\u001b[39m \u001b[38;5;28;43mself\u001b[39;49m\u001b[38;5;241m.\u001b[39mget_tools(chat_id\u001b[38;5;241m=\u001b[39mchat_id)\n\u001b[1;32m      8\u001b[0m     my_instance_handle \u001b[38;5;241m=\u001b[39m \u001b[38;5;124m\"\u001b[39m\u001b[38;5;124mlocal-also-remind-me-will-not-work\u001b[39m\u001b[38;5;124m\"\u001b[39m\n\u001b[1;32m     10\u001b[0m     memory \u001b[38;5;241m=\u001b[39m ConversationBufferMemory(memory_key\u001b[38;5;241m=\u001b[39m\u001b[38;5;124m\"\u001b[39m\u001b[38;5;124mchat_history\u001b[39m\u001b[38;5;124m\"\u001b[39m,\n\u001b[1;32m     11\u001b[0m                                       chat_memory\u001b[38;5;241m=\u001b[39mChatMessageHistory(\n\u001b[1;32m     12\u001b[0m                                           client\u001b[38;5;241m=\u001b[39mclient,\n\u001b[1;32m     13\u001b[0m                                           key\u001b[38;5;241m=\u001b[39m\u001b[38;5;124mf\u001b[39m\u001b[38;5;124m\"\u001b[39m\u001b[38;5;124mhistory-\u001b[39m\u001b[38;5;132;01m{\u001b[39;00mchat_id\u001b[38;5;132;01m}\u001b[39;00m\u001b[38;5;124m-\u001b[39m\u001b[38;5;132;01m{\u001b[39;00mmy_instance_handle\u001b[38;5;132;01m}\u001b[39;00m\u001b[38;5;124m\"\u001b[39m\n\u001b[1;32m     14\u001b[0m                                       ),\n\u001b[1;32m     15\u001b[0m                                       return_messages\u001b[38;5;241m=\u001b[39m\u001b[38;5;28;01mTrue\u001b[39;00m)\n",
      "\u001b[0;31mNameError\u001b[0m: name 'self' is not defined"
     ]
    }
   ],
   "source": [
    "agent = get_agent(Steamship(), chat_id=\"2\")"
   ]
  },
  {
   "cell_type": "code",
   "execution_count": null,
   "id": "4521a174",
   "metadata": {},
   "outputs": [],
   "source": [
    "agent.run(input=\"My name is Barry\")"
   ]
  },
  {
   "cell_type": "code",
   "execution_count": null,
   "id": "73b19b7d",
   "metadata": {},
   "outputs": [],
   "source": [
    "agent.run(input=\"What's my name?\")"
   ]
  },
  {
   "cell_type": "code",
   "execution_count": null,
   "id": "c67618b9",
   "metadata": {},
   "outputs": [],
   "source": [
    "agent.run(input=\"What's the weather in Berlin?\")"
   ]
  },
  {
   "cell_type": "code",
   "execution_count": null,
   "id": "1dee7b58",
   "metadata": {},
   "outputs": [],
   "source": []
  }
 ],
 "metadata": {
  "kernelspec": {
   "display_name": "Python 3 (ipykernel)",
   "language": "python",
   "name": "python3"
  },
  "language_info": {
   "codemirror_mode": {
    "name": "ipython",
    "version": 3
   },
   "file_extension": ".py",
   "mimetype": "text/x-python",
   "name": "python",
   "nbconvert_exporter": "python",
   "pygments_lexer": "ipython3",
   "version": "3.9.6"
  }
 },
 "nbformat": 4,
 "nbformat_minor": 5
}
